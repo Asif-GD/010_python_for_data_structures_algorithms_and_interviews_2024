{
 "cells": [
  {
   "cell_type": "markdown",
   "id": "e2fab98f-3419-4eb1-ab2b-97c76be41f07",
   "metadata": {},
   "source": [
    "# Creating four list methods for comparison"
   ]
  },
  {
   "cell_type": "code",
   "execution_count": 1,
   "id": "ca2969d4-0a46-4890-bffd-4c749575cf0a",
   "metadata": {},
   "outputs": [],
   "source": [
    "def list_method_1(count_value):\n",
    "    sample_list = []\n",
    "\n",
    "    for num in range(count_value):\n",
    "        sample_list += [num]\n",
    "\n",
    "    return sample_list\n",
    "\n",
    "def list_method_2(count_value):\n",
    "    sample_list = []\n",
    "\n",
    "    for num in range(count_value):\n",
    "        sample_list.append(num)\n",
    "\n",
    "    return sample_list\n",
    "\n",
    "def list_method_3(count_value):\n",
    "    sample_list = [num for num in range(count_value)]\n",
    "\n",
    "    return sample_list\n",
    "\n",
    "def list_method_4(count_value):\n",
    "    sample_list = list(range(count_value))\n",
    "\n",
    "    return sample_list"
   ]
  },
  {
   "cell_type": "code",
   "execution_count": 3,
   "id": "1407b26c-1fa6-4009-8004-88b21d899cde",
   "metadata": {},
   "outputs": [
    {
     "name": "stdout",
     "output_type": "stream",
     "text": [
      "104 µs ± 1.99 µs per loop (mean ± std. dev. of 7 runs, 10,000 loops each)\n",
      "58.8 µs ± 1.69 µs per loop (mean ± std. dev. of 7 runs, 10,000 loops each)\n",
      "43.4 µs ± 1.94 µs per loop (mean ± std. dev. of 7 runs, 10,000 loops each)\n",
      "14.7 µs ± 213 ns per loop (mean ± std. dev. of 7 runs, 100,000 loops each)\n"
     ]
    }
   ],
   "source": [
    "%timeit list_method_1(1000)\n",
    "%timeit list_method_2(1000)\n",
    "%timeit list_method_3(1000)\n",
    "%timeit list_method_4(1000)"
   ]
  },
  {
   "cell_type": "code",
   "execution_count": null,
   "id": "bea6eaac-59e9-4fba-a47e-82df133e1c64",
   "metadata": {},
   "outputs": [],
   "source": []
  }
 ],
 "metadata": {
  "kernelspec": {
   "display_name": "Python 3 (ipykernel)",
   "language": "python",
   "name": "python3"
  },
  "language_info": {
   "codemirror_mode": {
    "name": "ipython",
    "version": 3
   },
   "file_extension": ".py",
   "mimetype": "text/x-python",
   "name": "python",
   "nbconvert_exporter": "python",
   "pygments_lexer": "ipython3",
   "version": "3.10.4"
  }
 },
 "nbformat": 4,
 "nbformat_minor": 5
}
