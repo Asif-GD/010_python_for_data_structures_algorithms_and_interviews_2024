{
 "cells": [
  {
   "cell_type": "markdown",
   "id": "4ff4d461-94b7-4a90-8553-7aa082cb205a",
   "metadata": {},
   "source": [
    "### Algorithm Analysis & Big O"
   ]
  },
  {
   "cell_type": "markdown",
   "id": "dbb9d9ae-69c4-4386-8196-3b84a17aeafc",
   "metadata": {},
   "source": [
    "Algorithms are a set of procedure or the steps taken to solve the problem at hand. A problem can have multiple solutions (algorithms) and to compare the solutions objectively, we use the BigO notation."
   ]
  },
  {
   "cell_type": "markdown",
   "id": "bb2cbd40-8b12-4b89-9144-a043661fc6c9",
   "metadata": {},
   "source": [
    "They are done by comparing\n",
    "1. time, the program takes to run &\n",
    "2. space, the memory used by the program"
   ]
  },
  {
   "cell_type": "markdown",
   "id": "f841d715-5066-4484-a21c-3a83a01bca74",
   "metadata": {},
   "source": [
    "for example;"
   ]
  },
  {
   "cell_type": "code",
   "execution_count": 2,
   "id": "7b61beb8-1fff-4c41-ab62-45916040ec82",
   "metadata": {},
   "outputs": [],
   "source": [
    "def sum1(n):\n",
    "    final_sum: [int] = 0\n",
    "\n",
    "    for num in range(n + 1):\n",
    "        final_sum += num\n",
    "\n",
    "    return final_sum"
   ]
  },
  {
   "cell_type": "code",
   "execution_count": 3,
   "id": "c5ec9762-83cb-4365-b759-c5448f41d527",
   "metadata": {},
   "outputs": [
    {
     "data": {
      "text/plain": [
       "55"
      ]
     },
     "execution_count": 3,
     "metadata": {},
     "output_type": "execute_result"
    }
   ],
   "source": [
    "sum1(10)"
   ]
  },
  {
   "cell_type": "code",
   "execution_count": 4,
   "id": "89076055-224a-44e3-b260-96c0dbf8cf27",
   "metadata": {},
   "outputs": [],
   "source": [
    "def sum2(n):\n",
    "    return (n * (n+1))/2"
   ]
  },
  {
   "cell_type": "code",
   "execution_count": 5,
   "id": "3900a89f-b067-42d8-a4da-70ee6a0a16d2",
   "metadata": {},
   "outputs": [
    {
     "data": {
      "text/plain": [
       "55.0"
      ]
     },
     "execution_count": 5,
     "metadata": {},
     "output_type": "execute_result"
    }
   ],
   "source": [
    "sum2(10)"
   ]
  },
  {
   "cell_type": "code",
   "execution_count": 6,
   "id": "4d51ca24-7e14-4b89-ae67-a823c21f6b12",
   "metadata": {},
   "outputs": [
    {
     "name": "stdout",
     "output_type": "stream",
     "text": [
      "3.58 µs ± 317 ns per loop (mean ± std. dev. of 7 runs, 100,000 loops each)\n"
     ]
    }
   ],
   "source": [
    "%timeit sum1(100)"
   ]
  },
  {
   "cell_type": "code",
   "execution_count": 7,
   "id": "7a51384e-cbd7-4264-bfd9-9ba83450531d",
   "metadata": {},
   "outputs": [
    {
     "name": "stdout",
     "output_type": "stream",
     "text": [
      "124 ns ± 2.73 ns per loop (mean ± std. dev. of 7 runs, 10,000,000 loops each)\n"
     ]
    }
   ],
   "source": [
    "%timeit sum2(100)"
   ]
  },
  {
   "cell_type": "markdown",
   "id": "f74420c3-031c-4f29-a695-436db7e22855",
   "metadata": {},
   "source": [
    "As you can see in the above comparison of two functions, sum2() takes a lot less time to run when compared to sum1(). In other words, sum2() is very time efficient."
   ]
  },
  {
   "cell_type": "code",
   "execution_count": null,
   "id": "f7511c17-7198-479f-94da-651615cfbb5c",
   "metadata": {},
   "outputs": [],
   "source": []
  }
 ],
 "metadata": {
  "kernelspec": {
   "display_name": "Python 3 (ipykernel)",
   "language": "python",
   "name": "python3"
  },
  "language_info": {
   "codemirror_mode": {
    "name": "ipython",
    "version": 3
   },
   "file_extension": ".py",
   "mimetype": "text/x-python",
   "name": "python",
   "nbconvert_exporter": "python",
   "pygments_lexer": "ipython3",
   "version": "3.10.4"
  }
 },
 "nbformat": 4,
 "nbformat_minor": 5
}
