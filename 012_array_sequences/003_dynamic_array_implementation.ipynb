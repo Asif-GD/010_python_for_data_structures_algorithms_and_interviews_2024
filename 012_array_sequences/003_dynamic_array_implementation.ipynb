{
 "cells": [
  {
   "cell_type": "markdown",
   "id": "87923ebc-6669-46e6-a803-9d94b07383ea",
   "metadata": {},
   "source": [
    "# Dynamic Arrays"
   ]
  },
  {
   "cell_type": "markdown",
   "id": "f1e8c7f3-0da2-4301-9f8a-0167b20dffbe",
   "metadata": {},
   "source": [
    "#### Make my own dynamic array to better understand how python lists work"
   ]
  },
  {
   "cell_type": "code",
   "execution_count": 64,
   "id": "4a0e993d-3304-4a32-88b7-fcffb60d5f91",
   "metadata": {},
   "outputs": [],
   "source": [
    "import ctypes\n",
    "\n",
    "class DynamicArray(object):\n",
    "\n",
    "    def __init__(self):\n",
    "        \"\"\"\n",
    "        default values\n",
    "        \"\"\"\n",
    "        self.n = 0  # count is 0 i.e. it has 0 elements. This also serves as the index at which the next element will be added.\n",
    "        self.capacity = 1  # capacity is 1 initially and will be doubled everytime the array runs out of capacity.\n",
    "        self.A = self.make_array(self.capacity)\n",
    "\n",
    "    def __len__(self):\n",
    "        \"\"\"\n",
    "        returns the length of the array\n",
    "        \"\"\"\n",
    "        return self.n  # returns the number of elements currently stored in the array (note: array length != array size)\n",
    "\n",
    "    def __getitem__(self, k):  # __getitem__ cannot be renamed. I tried to use __get_item__ and I wasn't able to get elements using index.\n",
    "        \"\"\"\n",
    "        retrieves the element at index k\n",
    "        \"\"\"\n",
    "        if not 0 <= k < self.n:\n",
    "            return IndexError(\"k index is out of bounds\")  # throws the IndexError\n",
    "\n",
    "        return self.A[k]  # returns the element at index 'k'\n",
    "\n",
    "    def append(self, element):\n",
    "        \"\"\"\n",
    "        adds the element at the end of the array\n",
    "        \"\"\"\n",
    "        if self.n == self.capacity:  # if array is full, we increase the size of the array first\n",
    "            self._resize(2* self.capacity)\n",
    "\n",
    "        self.A[self.n] = element  # adds the new element\n",
    "        self.n += 1  # increase the count\n",
    "\n",
    "    def _resize(self, new_capacity):\n",
    "        \"\"\"\n",
    "        create a new temp array with increased size denoted by new capacity; and reassign the old array to the new temp array\n",
    "        \"\"\"\n",
    "        B = self.make_array(new_capacity)  # create the new temp array\n",
    "\n",
    "        for k in range(self.n):  # reference all elements to the new temp array\n",
    "            B[k] = self.A[k]\n",
    "\n",
    "        self.A = B  # reassign B to A\n",
    "        self.capacity = new_capacity  # update the capacity\n",
    "\n",
    "    def make_array(self, new_capacity):\n",
    "        \"\"\"\n",
    "        returns a new array with new capacity\n",
    "        \"\"\"\n",
    "        return (new_capacity * ctypes.py_object)()"
   ]
  },
  {
   "cell_type": "code",
   "execution_count": 65,
   "id": "1f2d601d-6564-4505-a165-4476c7eea815",
   "metadata": {},
   "outputs": [],
   "source": [
    "array_1 = DynamicArray()"
   ]
  },
  {
   "cell_type": "code",
   "execution_count": 66,
   "id": "97722dc1-7204-4111-9605-427f597f6d49",
   "metadata": {},
   "outputs": [],
   "source": [
    "array_1.append(1)"
   ]
  },
  {
   "cell_type": "code",
   "execution_count": 67,
   "id": "226c51d5-a31c-4d3f-a76e-036495860f5e",
   "metadata": {},
   "outputs": [
    {
     "data": {
      "text/plain": [
       "1"
      ]
     },
     "execution_count": 67,
     "metadata": {},
     "output_type": "execute_result"
    }
   ],
   "source": [
    "len(array_1)"
   ]
  },
  {
   "cell_type": "code",
   "execution_count": 68,
   "id": "d3ba98d6-4e65-46a5-9fa9-d7f6dcdfb3ae",
   "metadata": {},
   "outputs": [],
   "source": [
    "array_1.append(2)"
   ]
  },
  {
   "cell_type": "code",
   "execution_count": 69,
   "id": "59c16902-8322-489c-9eb2-2260bac7c7ca",
   "metadata": {},
   "outputs": [
    {
     "data": {
      "text/plain": [
       "2"
      ]
     },
     "execution_count": 69,
     "metadata": {},
     "output_type": "execute_result"
    }
   ],
   "source": [
    "len(array_1)"
   ]
  },
  {
   "cell_type": "code",
   "execution_count": 70,
   "id": "6b50ea32-b703-4c5d-acf2-716bc4e0a5d3",
   "metadata": {},
   "outputs": [
    {
     "data": {
      "text/plain": [
       "1"
      ]
     },
     "execution_count": 70,
     "metadata": {},
     "output_type": "execute_result"
    }
   ],
   "source": [
    "array_1[0]"
   ]
  },
  {
   "cell_type": "markdown",
   "id": "4e34cf0f-0216-43a3-b591-0d4d6bd9827b",
   "metadata": {},
   "source": [
    "# Practice"
   ]
  },
  {
   "cell_type": "code",
   "execution_count": 115,
   "id": "88a01557-6595-4e36-9dad-966ff218c757",
   "metadata": {},
   "outputs": [],
   "source": [
    "import ctypes\n",
    "\n",
    "class DynamicArray2(object):\n",
    "\n",
    "    def __init__(self):\n",
    "        \n",
    "        self.count = 0  # count is 0 by default, this also serves as the index to the new element to be added\n",
    "        self.capacity = 1  # array is at least 1 when initialized\n",
    "        self.A = self.make_array(self.capacity)  # whenever the class is called to create an array, an empty array of size 1 is created.\n",
    "\n",
    "    def __len__(self):\n",
    "\n",
    "        return self.count  # count is the number of elements present in the array\n",
    "\n",
    "    def __getitem__(self, index):\n",
    "\n",
    "        if not 0 <= index < self.count:  # throw an error if index is greater than or equal to the count\n",
    "            return IndexError(\"k index is out of bounds.\")\n",
    "\n",
    "        return self.A[index]\n",
    "\n",
    "    def make_array(self, capacity):\n",
    "\n",
    "        return (capacity * ctypes.py_object)()  # a ctype array object is returned\n",
    "\n",
    "    def _resize(self, capacity):\n",
    "\n",
    "        B = self.make_array(capacity)  # create a new temp array B\n",
    "\n",
    "        for index in range(self.count):  # reference all elements of A in the new temp array B as well\n",
    "            B[index] = self.A[index]\n",
    "\n",
    "        self.A = B  # reassign(rename) B as A\n",
    "\n",
    "    def append(self, element):\n",
    "\n",
    "        if self.count == self.capacity:  # if array is at max size, increase it's capacity\n",
    "            self._resize(2* self.capacity)\n",
    "\n",
    "        self.A[self.count] = element  # add the element\n",
    "        self.count += 1  # increase the count"
   ]
  },
  {
   "cell_type": "code",
   "execution_count": 116,
   "id": "21d8abe7-c55a-4fd9-a9d4-76c469d703bc",
   "metadata": {},
   "outputs": [],
   "source": [
    "array_2 = DynamicArray2()"
   ]
  },
  {
   "cell_type": "code",
   "execution_count": 117,
   "id": "0717809e-51d1-4df4-910c-efc9ef335d23",
   "metadata": {},
   "outputs": [
    {
     "data": {
      "text/plain": [
       "0"
      ]
     },
     "execution_count": 117,
     "metadata": {},
     "output_type": "execute_result"
    }
   ],
   "source": [
    "len(array_2)"
   ]
  },
  {
   "cell_type": "code",
   "execution_count": 118,
   "id": "2766ac11-0ccc-4c58-a67c-eecd2d85d606",
   "metadata": {},
   "outputs": [],
   "source": [
    "array_2.append(11)"
   ]
  },
  {
   "cell_type": "code",
   "execution_count": 119,
   "id": "3a179b27-c669-4c85-881d-54593a4cbd1a",
   "metadata": {},
   "outputs": [
    {
     "data": {
      "text/plain": [
       "1"
      ]
     },
     "execution_count": 119,
     "metadata": {},
     "output_type": "execute_result"
    }
   ],
   "source": [
    "len(array_2)"
   ]
  },
  {
   "cell_type": "code",
   "execution_count": 120,
   "id": "d3153bb8-ba42-4dcd-ad2d-33e463f42676",
   "metadata": {},
   "outputs": [
    {
     "data": {
      "text/plain": [
       "11"
      ]
     },
     "execution_count": 120,
     "metadata": {},
     "output_type": "execute_result"
    }
   ],
   "source": [
    "array_2[0]"
   ]
  },
  {
   "cell_type": "code",
   "execution_count": 109,
   "id": "1c1712ae-cba8-461c-a30a-4fd8a5acf4a8",
   "metadata": {},
   "outputs": [],
   "source": [
    "array_2.append(\"a\")"
   ]
  },
  {
   "cell_type": "code",
   "execution_count": 110,
   "id": "894afa9d-3cda-4a37-8d9d-538444454824",
   "metadata": {},
   "outputs": [
    {
     "data": {
      "text/plain": [
       "2"
      ]
     },
     "execution_count": 110,
     "metadata": {},
     "output_type": "execute_result"
    }
   ],
   "source": [
    "len(array_2)"
   ]
  },
  {
   "cell_type": "code",
   "execution_count": 111,
   "id": "c7f1965a-7483-4626-a075-f7482aa0daa3",
   "metadata": {},
   "outputs": [
    {
     "data": {
      "text/plain": [
       "'a'"
      ]
     },
     "execution_count": 111,
     "metadata": {},
     "output_type": "execute_result"
    }
   ],
   "source": [
    "array_2[1]"
   ]
  },
  {
   "cell_type": "code",
   "execution_count": 112,
   "id": "29559489-ec98-4a9a-8873-01abb9be2765",
   "metadata": {},
   "outputs": [
    {
     "name": "stdout",
     "output_type": "stream",
     "text": [
      "<__main__.DynamicArray2 object at 0x00000250F6937430>\n"
     ]
    }
   ],
   "source": [
    "print(array_2)"
   ]
  },
  {
   "cell_type": "code",
   "execution_count": 113,
   "id": "c89c585d-c9c3-4317-969b-8157191b7564",
   "metadata": {},
   "outputs": [
    {
     "data": {
      "text/plain": [
       "2"
      ]
     },
     "execution_count": 113,
     "metadata": {},
     "output_type": "execute_result"
    }
   ],
   "source": [
    "len(array_2)"
   ]
  },
  {
   "cell_type": "code",
   "execution_count": 114,
   "id": "41fffe6c-638c-4912-8747-5ed649743475",
   "metadata": {},
   "outputs": [
    {
     "data": {
      "text/plain": [
       "IndexError('k index is out of bounds.')"
      ]
     },
     "execution_count": 114,
     "metadata": {},
     "output_type": "execute_result"
    }
   ],
   "source": [
    "array_2[5]"
   ]
  },
  {
   "cell_type": "code",
   "execution_count": null,
   "id": "b1d0439b-7f47-49c1-9a64-67bce9a7aab4",
   "metadata": {},
   "outputs": [],
   "source": []
  }
 ],
 "metadata": {
  "kernelspec": {
   "display_name": "Python 3 (ipykernel)",
   "language": "python",
   "name": "python3"
  },
  "language_info": {
   "codemirror_mode": {
    "name": "ipython",
    "version": 3
   },
   "file_extension": ".py",
   "mimetype": "text/x-python",
   "name": "python",
   "nbconvert_exporter": "python",
   "pygments_lexer": "ipython3",
   "version": "3.10.4"
  }
 },
 "nbformat": 4,
 "nbformat_minor": 5
}
