{
 "cells": [
  {
   "cell_type": "markdown",
   "id": "213d5ac0-6296-4c5e-a5ee-4aa28ea9affe",
   "metadata": {},
   "source": [
    "### Checking out capacity increase for a python list"
   ]
  },
  {
   "cell_type": "code",
   "execution_count": 12,
   "id": "d0c8b10e-99b0-4a8b-abbe-0fc20efc370d",
   "metadata": {},
   "outputs": [
    {
     "name": "stdout",
     "output_type": "stream",
     "text": [
      "element: 10; length: 0; size in bytes: 56\n",
      "element: 10; length: 1; size in bytes: 88\n",
      "element: 10; length: 2; size in bytes: 88\n",
      "element: 10; length: 3; size in bytes: 88\n",
      "element: 10; length: 4; size in bytes: 88\n",
      "element: 10; length: 5; size in bytes: 120\n",
      "element: 10; length: 6; size in bytes: 120\n",
      "element: 10; length: 7; size in bytes: 120\n",
      "element: 10; length: 8; size in bytes: 120\n",
      "element: 10; length: 9; size in bytes: 184\n"
     ]
    }
   ],
   "source": [
    "import sys\n",
    "\n",
    "n = 10\n",
    "\n",
    "array_1 = list()\n",
    "\n",
    "for i in range(n):\n",
    "\n",
    "    a = len(array_1)\n",
    "    b = sys.getsizeof(array_1)\n",
    "\n",
    "    array_1.append(n)\n",
    "\n",
    "    print(f\"element: {array_1[i]}; length: {a}; size in bytes: {b}\")"
   ]
  },
  {
   "cell_type": "markdown",
   "id": "862850fe-7950-4e22-8423-1b3ff0915d10",
   "metadata": {},
   "source": [
    "### Checking out capacity increase for my implementation of dynamic array"
   ]
  },
  {
   "cell_type": "code",
   "execution_count": 13,
   "id": "c00a4f8a-90f8-473a-b60b-2e60bdaef57e",
   "metadata": {},
   "outputs": [],
   "source": [
    "import ctypes\n",
    "\n",
    "class DynamicArray(object):\n",
    "\n",
    "    def __init__(self):\n",
    "        \n",
    "        self.count = 0  # count is 0 by default, this also serves as the index to the new element to be added\n",
    "        self.capacity = 1  # array is at least 1 when initialized\n",
    "        self.A = self.make_array(self.capacity)  # whenever the class is called to create an array, an empty array of size 1 is created.\n",
    "\n",
    "    def __len__(self):\n",
    "\n",
    "        return self.count  # count is the number of elements present in the array\n",
    "\n",
    "    def __getitem__(self, index):\n",
    "\n",
    "        if not 0 <= index < self.count:  # throw an error if index is greater than or equal to the count\n",
    "            return IndexError(\"k index is out of bounds.\")\n",
    "\n",
    "        return self.A[index]\n",
    "\n",
    "    def make_array(self, capacity):\n",
    "\n",
    "        return (capacity * ctypes.py_object)()  # a ctype array object is returned\n",
    "\n",
    "    def _resize(self, capacity):\n",
    "\n",
    "        B = self.make_array(capacity)  # create a new temp array B\n",
    "\n",
    "        for index in range(self.count):  # reference all elements of A in the new temp array B as well\n",
    "            B[index] = self.A[index]\n",
    "\n",
    "        self.A = B  # reassign(rename) B as A\n",
    "        self.capacity = capacity  # reset the capacity\n",
    "\n",
    "    def append(self, element):\n",
    "\n",
    "        if self.count == self.capacity:  # if array is at max size, increase it's capacity\n",
    "            self._resize(2* self.capacity)\n",
    "\n",
    "        self.A[self.count] = element  # add the element\n",
    "        self.count += 1  # increase the count"
   ]
  },
  {
   "cell_type": "code",
   "execution_count": 14,
   "id": "904ef878-3ecb-463b-a08f-09cb75e1dc59",
   "metadata": {},
   "outputs": [
    {
     "name": "stdout",
     "output_type": "stream",
     "text": [
      "element: 10; length: 0; size in bytes: 48\n",
      "element: 10; length: 1; size in bytes: 48\n",
      "element: 10; length: 2; size in bytes: 48\n",
      "element: 10; length: 3; size in bytes: 48\n",
      "element: 10; length: 4; size in bytes: 48\n",
      "element: 10; length: 5; size in bytes: 48\n",
      "element: 10; length: 6; size in bytes: 48\n",
      "element: 10; length: 7; size in bytes: 48\n",
      "element: 10; length: 8; size in bytes: 48\n",
      "element: 10; length: 9; size in bytes: 48\n"
     ]
    }
   ],
   "source": [
    "import sys\n",
    "\n",
    "n = 10\n",
    "\n",
    "array_2 = DynamicArray()\n",
    "\n",
    "for i in range(n):\n",
    "\n",
    "    a = len(array_2)\n",
    "    b = sys.getsizeof(array_2)\n",
    "\n",
    "    array_2.append(n)\n",
    "\n",
    "    print(f\"element: {array_2[i]}; length: {a}; size in bytes: {b}\")"
   ]
  },
  {
   "cell_type": "code",
   "execution_count": null,
   "id": "a84e40f3-b074-4485-86f0-a1f10d43f04e",
   "metadata": {},
   "outputs": [],
   "source": []
  }
 ],
 "metadata": {
  "kernelspec": {
   "display_name": "Python 3 (ipykernel)",
   "language": "python",
   "name": "python3"
  },
  "language_info": {
   "codemirror_mode": {
    "name": "ipython",
    "version": 3
   },
   "file_extension": ".py",
   "mimetype": "text/x-python",
   "name": "python",
   "nbconvert_exporter": "python",
   "pygments_lexer": "ipython3",
   "version": "3.10.4"
  }
 },
 "nbformat": 4,
 "nbformat_minor": 5
}
