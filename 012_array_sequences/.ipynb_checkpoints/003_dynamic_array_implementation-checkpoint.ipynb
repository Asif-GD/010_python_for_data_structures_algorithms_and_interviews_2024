{
 "cells": [
  {
   "cell_type": "markdown",
   "id": "87923ebc-6669-46e6-a803-9d94b07383ea",
   "metadata": {},
   "source": [
    "# Dynamic Arrays"
   ]
  },
  {
   "cell_type": "markdown",
   "id": "f1e8c7f3-0da2-4301-9f8a-0167b20dffbe",
   "metadata": {},
   "source": [
    "#### Make my own dynamic array to better understand how python lists work"
   ]
  },
  {
   "cell_type": "code",
   "execution_count": 64,
   "id": "4a0e993d-3304-4a32-88b7-fcffb60d5f91",
   "metadata": {},
   "outputs": [],
   "source": [
    "import ctypes\n",
    "\n",
    "class DynamicArray(object):\n",
    "\n",
    "    def __init__(self):\n",
    "        \"\"\"\n",
    "        default values\n",
    "        \"\"\"\n",
    "        self.n = 0  # count is 0 i.e. it has 0 elements. This also serves as the index at which the next element will be added.\n",
    "        self.capacity = 1  # capacity is 1 initially and will be doubled everytime the array runs out of capacity.\n",
    "        self.A = self.make_array(self.capacity)\n",
    "\n",
    "    def __len__(self):\n",
    "        \"\"\"\n",
    "        returns the length of the array\n",
    "        \"\"\"\n",
    "        return self.n  # returns the number of elements currently stored in the array (note: array length != array size)\n",
    "\n",
    "    def __getitem__(self, k):  # __getitem__ cannot be renamed. I tried to use __get_item__ and I wasn't able to get elements using index.\n",
    "        \"\"\"\n",
    "        retrieves the element at index k\n",
    "        \"\"\"\n",
    "        if not 0 <= k < self.n:\n",
    "            return IndexError(\"k index is out of bounds\")  # throws the IndexError\n",
    "\n",
    "        return self.A[k]  # returns the element at index 'k'\n",
    "\n",
    "    def append(self, element):\n",
    "        \"\"\"\n",
    "        adds the element at the end of the array\n",
    "        \"\"\"\n",
    "        if self.n == self.capacity:  # if array is full, we increase the size of the array first\n",
    "            self._resize(2* self.capacity)\n",
    "\n",
    "        self.A[self.n] = element  # adds the new element\n",
    "        self.n += 1  # increase the count\n",
    "\n",
    "    def _resize(self, new_capacity):\n",
    "        \"\"\"\n",
    "        create a new temp array with increased size denoted by new capacity; and reassign the old array to the new temp array\n",
    "        \"\"\"\n",
    "        B = self.make_array(new_capacity)  # create the new temp array\n",
    "\n",
    "        for k in range(self.n):  # reference all elements to the new temp array\n",
    "            B[k] = self.A[k]\n",
    "\n",
    "        self.A = B  # reassign B to A\n",
    "        self.capacity = new_capacity  # update the capacity\n",
    "\n",
    "    def make_array(self, new_capacity):\n",
    "        \"\"\"\n",
    "        returns a new array with new capacity\n",
    "        \"\"\"\n",
    "        return (new_capacity * ctypes.py_object)()"
   ]
  },
  {
   "cell_type": "code",
   "execution_count": 65,
   "id": "1f2d601d-6564-4505-a165-4476c7eea815",
   "metadata": {},
   "outputs": [],
   "source": [
    "array_1 = DynamicArray()"
   ]
  },
  {
   "cell_type": "code",
   "execution_count": 66,
   "id": "97722dc1-7204-4111-9605-427f597f6d49",
   "metadata": {},
   "outputs": [],
   "source": [
    "array_1.append(1)"
   ]
  },
  {
   "cell_type": "code",
   "execution_count": 67,
   "id": "226c51d5-a31c-4d3f-a76e-036495860f5e",
   "metadata": {},
   "outputs": [
    {
     "data": {
      "text/plain": [
       "1"
      ]
     },
     "execution_count": 67,
     "metadata": {},
     "output_type": "execute_result"
    }
   ],
   "source": [
    "len(array_1)"
   ]
  },
  {
   "cell_type": "code",
   "execution_count": 68,
   "id": "d3ba98d6-4e65-46a5-9fa9-d7f6dcdfb3ae",
   "metadata": {},
   "outputs": [],
   "source": [
    "array_1.append(2)"
   ]
  },
  {
   "cell_type": "code",
   "execution_count": 69,
   "id": "59c16902-8322-489c-9eb2-2260bac7c7ca",
   "metadata": {},
   "outputs": [
    {
     "data": {
      "text/plain": [
       "2"
      ]
     },
     "execution_count": 69,
     "metadata": {},
     "output_type": "execute_result"
    }
   ],
   "source": [
    "len(array_1)"
   ]
  },
  {
   "cell_type": "code",
   "execution_count": 70,
   "id": "6b50ea32-b703-4c5d-acf2-716bc4e0a5d3",
   "metadata": {},
   "outputs": [
    {
     "data": {
      "text/plain": [
       "1"
      ]
     },
     "execution_count": 70,
     "metadata": {},
     "output_type": "execute_result"
    }
   ],
   "source": [
    "array_1[0]"
   ]
  },
  {
   "cell_type": "code",
   "execution_count": null,
   "id": "5a335f74-e339-485c-9ee6-70d14b409aba",
   "metadata": {},
   "outputs": [],
   "source": []
  }
 ],
 "metadata": {
  "kernelspec": {
   "display_name": "Python 3 (ipykernel)",
   "language": "python",
   "name": "python3"
  },
  "language_info": {
   "codemirror_mode": {
    "name": "ipython",
    "version": 3
   },
   "file_extension": ".py",
   "mimetype": "text/x-python",
   "name": "python",
   "nbconvert_exporter": "python",
   "pygments_lexer": "ipython3",
   "version": "3.10.4"
  }
 },
 "nbformat": 4,
 "nbformat_minor": 5
}
